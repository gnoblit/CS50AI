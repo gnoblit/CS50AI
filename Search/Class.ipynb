{
 "metadata": {
  "language_info": {
   "codemirror_mode": {
    "name": "ipython",
    "version": 3
   },
   "file_extension": ".py",
   "mimetype": "text/x-python",
   "name": "python",
   "nbconvert_exporter": "python",
   "pygments_lexer": "ipython3",
   "version": 3
  },
  "orig_nbformat": 2
 },
 "nbformat": 4,
 "nbformat_minor": 2,
 "cells": [
  {
   "source": [
    "# Intro\n",
    "## Terms\n",
    "* Agents: Entities that perceive their environments and act on those environments. \n",
    "* State: Some configuration of the agent and its environment. \n",
    "* Initial State: Starting point for an algorithm. What actions might we apply to initial state to get to goal?\n",
    "* Actions: These are choices that can be made in any given state. We generally want to formalize these mathematically. We'll define a function, called actions, which takes states as input, s, and returns the set of actions that can be executed from a given state. Some actions can only be valid in certain states but not others. \n",
    "* Transition Model: Description ofwhat state results from performing any applicable action in any state. Defined as a function, result, which takes two inputs: some state and action. Reports state resulting from performing action a in state s. \n",
    "* State Space: Set of all states reachable from the initial state by any sequence of actions. Generally conceptualized as a graph where nodes represent states and arrows represent actions linking from one state to another. \n",
    "* Goal Test: How do we know if we're done? This is a way to assess whether a given state is a goal state. Problems may be solved in multiple ways, so this isn't always trivial.\n",
    "* Path Cost: We often don't care just about the goal but the cost of getting there (GPS!), so what numerical cost is associated with a given path?\n",
    "* Optimal Solution: Solution with lowest path cost among all solutions.\n",
    "\n",
    "## Data Representation\n",
    "Data structure will need to keep track of a lot of this. \n",
    "* Node: Data structure tracking...\n",
    "    * State\n",
    "    * Parent (node that generated this node)\n",
    "    * Action (action applied to parent to get node)\n",
    "    * a path cost (from initial state to node)\n",
    "\n",
    "## Problem\n",
    "* Start at a frontier that contains the initial state. \n",
    "* Repeat: \n",
    "    * If frontier is empty: no solution, no way to get to goal. \n",
    "    * Otherwise, remove node from the frontier. \n",
    "    * If node contains goal state, return the solution. \n",
    "    * Otherwise, expand node, add resulting nodes to the frontier. **Expand** means consider all neighbors of node and possible actions (what nodes can you read from there). Add resulting nodes to the frontier.\n",
    "\n",
    "Such an approach can get stuck in loops though if that exist.\n",
    "Can modify by including an explored set and add previously explored nodes to explored set. Then only add nodes if they're not already in the frontier or the explored set. \n",
    "\n",
    "How we add and remove from the frontier is also relevant. Data structure for this is a **stack** whereby last in = first out. This permits us to follow paths one by one.\n",
    "\n",
    "This algorithm is known as *Depth-First Search* for obvious reasons: always expands the deepest node in the frontier. \n",
    "\n",
    "*Breadth-First Search* goes for the shallowest node first along the frontier - first in first out called a **queue**. \n",
    "\n",
    "As long as our state space is finite, we can find a solution with DFS.\n",
    "\n",
    "Will it be an optimal solution? Not necessarily... DFS might stumble on a short solution first, but if it doesn't, it can take awhile. BFS can sometimes (but not always) do better. \n",
    "\n",
    "## Doing Better\n",
    "DFS and BFS are uninformed search problems. They consider nothing about the problem specifically. **Informed search** use knowledge specific to the problem to better find a solution. In a maze case, we want to be in a square that's geographically closer rather than farther from the goal. \n",
    "\n",
    "**Greedy best-first search** expands the node that is closest to the goal, as estimated by a heuristic function, *h(n)*. \n",
    "\n",
    "Will *GBFS* provide an optimal solution? No! Greedy because it makes the best decision locally, ignores global considerations. \n",
    "\n",
    "*A\\* Search* doesn't just consider *h(n)* but also *g(n)* or the cost to reach a node: search algorithm that expands node with lowest value of *g(n) + h(n)*. This algorithm is optimal if:\n",
    "* *h(n)* is admissible (never overestimates the true cost) and,\n",
    "* *h(n)* is consistent (for every node *n* and successor *n'* with step cost, *c*, *h(n) <= h(n') + c*). \n",
    "\n",
    "## Adversarial Search\n",
    "But we're not always in a situation with a single agent. What if someone is fighting against me? I am trying to succeed and they're trying to make me fail. \n"
   ],
   "cell_type": "markdown",
   "metadata": {}
  },
  {
   "cell_type": "code",
   "execution_count": null,
   "metadata": {},
   "outputs": [],
   "source": []
  },
  {
   "source": [],
   "cell_type": "markdown",
   "metadata": {}
  }
 ]
}